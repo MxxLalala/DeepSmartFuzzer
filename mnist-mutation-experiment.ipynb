{
 "cells": [
  {
   "cell_type": "code",
   "execution_count": 1,
   "metadata": {},
   "outputs": [],
   "source": [
    "import numpy as np\n",
    "import itertools\n",
    "import image_transforms"
   ]
  },
  {
   "cell_type": "code",
   "execution_count": 3,
   "metadata": {},
   "outputs": [
    {
     "name": "stderr",
     "output_type": "stream",
     "text": [
      "Using TensorFlow backend.\n"
     ]
    }
   ],
   "source": [
    "from keras.datasets import mnist\n",
    "(train_images, train_labels), (test_images, test_labels) = mnist.load_data()\n",
    "train_images = train_images.reshape(-1,28,28,1).astype(np.int16)\n",
    "test_images = test_images.reshape(-1,28,28,1).astype(np.int16)"
   ]
  },
  {
   "cell_type": "code",
   "execution_count": 30,
   "metadata": {},
   "outputs": [],
   "source": [
    "translation = list(itertools.product([getattr(image_transforms,\"image_translation\")], [(10+10*k,10+10*k) for k in range(10)]))\n",
    "scale = list(itertools.product([getattr(image_transforms, \"image_scale\")], [(1.5+0.5*k,1.5+0.5*k) for k in range(10)]))\n",
    "shear = list(itertools.product([getattr(image_transforms, \"image_shear\")], [(-1.0+0.1*k,0) for k in range(10)]))\n",
    "rotation = list(itertools.product([getattr(image_transforms, \"image_rotation\")], [3+3*k for k in range(10)]))\n",
    "contrast = list(itertools.product([getattr(image_transforms, \"image_contrast\")], [1.2+0.2*k for k in range(10)]))\n",
    "brightness = list(itertools.product([getattr(image_transforms, \"image_brightness\")], [10+10*k for k in range(10)]))\n",
    "blur = list(itertools.product([getattr(image_transforms, \"image_blur\")], [k+1 for k in range(10)]))\n",
    "\n",
    "G = translation + rotation\n",
    "P = contrast + brightness + blur\n",
    "A = P"
   ]
  },
  {
   "cell_type": "code",
   "execution_count": 128,
   "metadata": {},
   "outputs": [
    {
     "name": "stdout",
     "output_type": "stream",
     "text": [
      "<function image_blur at 0x00000288D74A38C8> 2\n",
      "break\n"
     ]
    }
   ],
   "source": [
    "initial_image = test_images[np.random.randint(len(test_images))].reshape(28,28,1)\n",
    "mutated_image = np.copy(initial_image)\n",
    "for i in range(10):\n",
    "    s = np.random.randint(len(A))\n",
    "    t, p = A[s]\n",
    "    print(t, p)\n",
    "    mutated_last = np.copy(mutated_image)\n",
    "    mutated_image = t(mutated_image, p).reshape(28,28,1)\n",
    "    if np.sum((mutated_image - initial_image)**2) / mutated_image.size > 800:\n",
    "        print(\"break\")\n",
    "        break"
   ]
  },
  {
   "cell_type": "code",
   "execution_count": 129,
   "metadata": {},
   "outputs": [],
   "source": [
    "import matplotlib.pyplot as plt"
   ]
  },
  {
   "cell_type": "code",
   "execution_count": 130,
   "metadata": {},
   "outputs": [
    {
     "data": {
      "text/plain": [
       "<matplotlib.image.AxesImage at 0x288fcd56a90>"
      ]
     },
     "execution_count": 130,
     "metadata": {},
     "output_type": "execute_result"
    },
    {
     "data": {
      "image/png": "[encoded data removed]",
      "text/plain": [
       "<Figure size 432x288 with 1 Axes>"
      ]
     },
     "metadata": {
      "needs_background": "light"
     },
     "output_type": "display_data"
    }
   ],
   "source": [
    "plt.imshow(initial_image.reshape(28,28))"
   ]
  },
  {
   "cell_type": "code",
   "execution_count": 131,
   "metadata": {},
   "outputs": [
    {
     "data": {
      "text/plain": [
       "<matplotlib.image.AxesImage at 0x288fcdb4ba8>"
      ]
     },
     "execution_count": 131,
     "metadata": {},
     "output_type": "execute_result"
    },
    {
     "data": {
      "image/png": "[encoded data removed]",
      "text/plain": [
       "<Figure size 432x288 with 1 Axes>"
      ]
     },
     "metadata": {
      "needs_background": "light"
     },
     "output_type": "display_data"
    }
   ],
   "source": [
    "plt.imshow(mutated_image.reshape(28,28))"
   ]
  },
  {
   "cell_type": "code",
   "execution_count": null,
   "metadata": {},
   "outputs": [],
   "source": []
  },
  {
   "cell_type": "code",
   "execution_count": null,
   "metadata": {},
   "outputs": [],
   "source": []
  },
  {
   "cell_type": "code",
   "execution_count": null,
   "metadata": {},
   "outputs": [],
   "source": []
  }
 ],
 "metadata": {
  "kernelspec": {
   "display_name": "Python 3",
   "language": "python",
   "name": "python3"
  },
  "language_info": {
   "codemirror_mode": {
    "name": "ipython",
    "version": 3
   },
   "file_extension": ".py",
   "mimetype": "text/x-python",
   "name": "python",
   "nbconvert_exporter": "python",
   "pygments_lexer": "ipython3",
   "version": "3.6.8"
  }
 },
 "nbformat": 4,
 "nbformat_minor": 2
}
